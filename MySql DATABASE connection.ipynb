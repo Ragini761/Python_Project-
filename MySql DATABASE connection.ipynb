{
 "cells": [
  {
   "cell_type": "markdown",
   "id": "5e0d7a7e",
   "metadata": {},
   "source": [
    "# Step1.Creating a database\n",
    "1. Import mysql-connector/Pymysql database connector\n",
    "2. Creating a connection object\n",
    "3. Creating a cursor objects\n",
    "4. Using cursor object ,we can execute sql commands"
   ]
  },
  {
   "cell_type": "code",
   "execution_count": 9,
   "id": "fdee9f6b",
   "metadata": {},
   "outputs": [
    {
     "name": "stdout",
     "output_type": "stream",
     "text": [
      "Requirement already satisfied: mysql-connector in c:\\users\\ragin\\anaconda3\\lib\\site-packages (2.2.9)\n"
     ]
    }
   ],
   "source": [
    "#Install Mysql connector\n",
    "!pip install mysql-connector"
   ]
  },
  {
   "cell_type": "code",
   "execution_count": 2,
   "id": "88afb313",
   "metadata": {},
   "outputs": [],
   "source": [
    "#Import mysql-connector/Pymysql database connector\n",
    "import pymysql"
   ]
  },
  {
   "cell_type": "code",
   "execution_count": 7,
   "id": "f810aec4",
   "metadata": {},
   "outputs": [
    {
     "name": "stdout",
     "output_type": "stream",
     "text": [
      "Connected successfully with MYsql database\n"
     ]
    }
   ],
   "source": [
    "#Creating a connection object\n",
    "connect_db=pymysql.connect(host=\"localhost\",user=\"root\",password=\"Ragini@23\",autocommit=True)#\"127.0.0.1\"\n",
    "if connect_db:\n",
    "    print(\"Connected successfully with MYsql database\")\n",
    "else:\n",
    "    print(\"some error occured\")"
   ]
  },
  {
   "cell_type": "code",
   "execution_count": 8,
   "id": "6c1754b5",
   "metadata": {},
   "outputs": [],
   "source": [
    "#Creating a cursor objects\n",
    "my_cursor2=connect_db.cursor()\n",
    "query1=\"create database if not exists Library_Manegemnet_System\"\n",
    "my_cursor2.execute(query1)\n",
    "connect_db.close()"
   ]
  },
  {
   "cell_type": "code",
   "execution_count": 14,
   "id": "edbf3ea3",
   "metadata": {},
   "outputs": [
    {
     "name": "stdout",
     "output_type": "stream",
     "text": [
      "('demo',)\n",
      "('demo_db',)\n",
      "('information_schema',)\n",
      "('library_manegemnet_system',)\n",
      "('mysql',)\n",
      "('performance_schema',)\n",
      "('practice_db',)\n",
      "('python_class_db',)\n",
      "('sakila',)\n",
      "('sal_order',)\n",
      "('sales',)\n",
      "('sample_db',)\n",
      "('sys',)\n",
      "('world',)\n"
     ]
    }
   ],
   "source": [
    "#show all the databases \n",
    "my_cursor2.execute(\"show databases;\")\n",
    "for db in my_cursor2:\n",
    "    print(db)"
   ]
  },
  {
   "cell_type": "code",
   "execution_count": 13,
   "id": "5fe7b321",
   "metadata": {},
   "outputs": [
    {
     "data": {
      "text/plain": [
       "0"
      ]
     },
     "execution_count": 13,
     "metadata": {},
     "output_type": "execute_result"
    }
   ],
   "source": [
    "connect_db=pymysql.connect(host=\"localhost\",user=\"root\",password=\"Ragini@23\",autocommit=True,database=\n",
    "                           \"Library_Manegemnet_System\")\n",
    "my_cursor2=connect_db.cursor()\n",
    "query2=\"\"\"create table if not exists book(\n",
    "book_id     int primary key,\n",
    "book_name   varchar(50),\n",
    "author_name  varchar(50),\n",
    "copies        int,\n",
    "price        float,\n",
    "rem_copies    int\n",
    "\n",
    ")\"\"\"\n",
    "\n",
    "my_cursor2.execute(query2)"
   ]
  },
  {
   "cell_type": "code",
   "execution_count": 16,
   "id": "9701c0c4",
   "metadata": {},
   "outputs": [
    {
     "data": {
      "text/plain": [
       "0"
      ]
     },
     "execution_count": 16,
     "metadata": {},
     "output_type": "execute_result"
    }
   ],
   "source": [
    "query4=\"\"\"create table if not exists member(\n",
    "mem_id       int primary key,\n",
    "m_name        varchar(50),\n",
    "m_add         varchar(50),\n",
    "phone         char(10)\n",
    "\n",
    ")\"\"\"\n",
    "my_cursor2.execute(query4)\n"
   ]
  },
  {
   "cell_type": "code",
   "execution_count": 28,
   "id": "8bec7c86",
   "metadata": {},
   "outputs": [
    {
     "data": {
      "text/plain": [
       "0"
      ]
     },
     "execution_count": 28,
     "metadata": {},
     "output_type": "execute_result"
    }
   ],
   "source": [
    "connect_db=pymysql.connect(host=\"localhost\",user=\"root\",password=\"Ragini@23\",autocommit=True,database=\n",
    "                           \"Library_Manegemnet_System\")\n",
    "my_cursor2=connect_db.cursor()\n",
    "query3=\"\"\"create table if not exists issue(\n",
    "issue_id int primary key,\n",
    "issue_date  date,\n",
    "member_id    int,\n",
    "book_id      int,\n",
    "copies       int,\n",
    "CONSTRAINT fk_member1 FOREIGN KEY (member_id) REFERENCES member(mem_id),\n",
    "CONSTRAINT fk_book1 FOREIGN KEY (book_id) REFERENCES book(book_id)\n",
    "\n",
    ")\"\"\"\n",
    "my_cursor2.execute(query3)"
   ]
  },
  {
   "cell_type": "code",
   "execution_count": 24,
   "id": "d384bc85",
   "metadata": {},
   "outputs": [],
   "source": [
    "query5=\"\"\"create table if not exists return_book(\n",
    "return_id   int primary key,\n",
    "return_date date,\n",
    "member_id    int,\n",
    "book_id      int,\n",
    "copies         int,\n",
    "CONSTRAINT fk_member FOREIGN KEY (member_id) REFERENCES member(mem_id),\n",
    "CONSTRAINT fk_book FOREIGN KEY (book_id) REFERENCES book(book_id)\n",
    "\n",
    ")\"\"\"\n",
    "my_cursor2.execute(query5)\n",
    "connect_db.close()"
   ]
  },
  {
   "cell_type": "code",
   "execution_count": 7,
   "id": "59595d6c",
   "metadata": {},
   "outputs": [],
   "source": [
    "import sqlite3\n",
    "connectDB=sqlite3.connect(\"library_manegemnet_system\")"
   ]
  },
  {
   "cell_type": "code",
   "execution_count": 1,
   "id": "293005a4",
   "metadata": {},
   "outputs": [
    {
     "name": "stdout",
     "output_type": "stream",
     "text": [
      "Requirement already satisfied: tabulate in c:\\users\\ragin\\anaconda3\\lib\\site-packages (0.8.10)\n",
      "Note: you may need to restart the kernel to use updated packages.\n"
     ]
    }
   ],
   "source": [
    "pip install tabulate"
   ]
  },
  {
   "cell_type": "code",
   "execution_count": null,
   "id": "76b32741",
   "metadata": {},
   "outputs": [],
   "source": []
  }
 ],
 "metadata": {
  "kernelspec": {
   "display_name": "Python 3 (ipykernel)",
   "language": "python",
   "name": "python3"
  },
  "language_info": {
   "codemirror_mode": {
    "name": "ipython",
    "version": 3
   },
   "file_extension": ".py",
   "mimetype": "text/x-python",
   "name": "python",
   "nbconvert_exporter": "python",
   "pygments_lexer": "ipython3",
   "version": "3.11.5"
  }
 },
 "nbformat": 4,
 "nbformat_minor": 5
}
